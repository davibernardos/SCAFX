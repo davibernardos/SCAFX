{
 "cells": [
  {
   "cell_type": "markdown",
   "metadata": {},
   "source": [
    "### UTILITARIOS\n",
    "---"
   ]
  },
  {
   "cell_type": "code",
   "execution_count": 3,
   "metadata": {},
   "outputs": [],
   "source": [
    "def get_printador(features):\n",
    "    print(features)\n",
    "    \n",
    "def get_printador_cab(id_aluno):\n",
    "    print(\"\\nAluno {}\".format(id_aluno))\n",
    "    print(\"-------------------------------\")\n",
    "       \n",
    "def get_migracao(ls_labels):\n",
    "    print(\"===============================\")\n",
    "    \n",
    "    for i in range(0, len(ls_labels[0])):\n",
    "        print(\"{} {} {} {} {}\".format(i+1, ls_labels[0][i], ls_labels[1][i], ls_labels[2][i], ls_labels[3][i]))"
   ]
  },
  {
   "cell_type": "code",
   "execution_count": null,
   "metadata": {},
   "outputs": [],
   "source": [
    "def clearOutputCSV(output_file):\n",
    "    if os.path.exists(output_file):\n",
    "        os.remove(output_file)"
   ]
  },
  {
   "cell_type": "code",
   "execution_count": 1,
   "metadata": {},
   "outputs": [],
   "source": [
    "def outputFilesIdentifier(root_input, root_output, ls_classroom, ls_list, root_tree):\n",
    "    output_folder = \"{}_{}_{}\".format(root_output, ls_classroom, ls_list)\n",
    "    output_tree = \"{}/arv-{}-{}.png\".format(root_tree, ls_classroom, ls_list)\n",
    "    output_cluster = \"{}/clt-{}-{}.png\".format(root_tree, ls_classroom, ls_list)\n",
    "    input_folder = \"{}/{}/{}\".format(root_input, ls_classroom, ls_list)\n",
    "    # ----------------------------------------------------------------\n",
    "    return (input_folder, output_folder, output_tree, output_cluster)"
   ]
  },
  {
   "cell_type": "code",
   "execution_count": null,
   "metadata": {},
   "outputs": [],
   "source": [
    "def mkdirOutputFolder(output_folder):\n",
    "    if os.path.exists(output_folder):\n",
    "        print(\"\\n> Folder: {} (ok).\".format(output_folder))\n",
    "    else:\n",
    "        print(\"\\n> The folder ({}) has been created.\".format(output_folder))\n",
    "        os.mkdir(output_folder)"
   ]
  },
  {
   "cell_type": "code",
   "execution_count": null,
   "metadata": {},
   "outputs": [],
   "source": [
    "def studentsIdentifier(ls_turma):    \n",
    "    if ls_turma == \"T1\":\n",
    "        start_stud = 101\n",
    "    elif ls_turma == \"T2\":\n",
    "        start_stud = 201\n",
    "    elif ls_turma == \"T3\":\n",
    "        start_stud = 301\n",
    "    # ---------------------        \n",
    "    return(start_stud)"
   ]
  },
  {
   "cell_type": "code",
   "execution_count": null,
   "metadata": {},
   "outputs": [],
   "source": [
    "def columnsIdentifier(ls_lista):    \n",
    "    if ls_lista == \"Lista01\":\n",
    "        column_names = ['NOF','NOP','NOC','NOR','Cluster']\n",
    "    elif ls_lista == \"Lista02\":\n",
    "        column_names = ['NOPt_s','NOAdd_s','NOPt_ds','NOAdd_ds','Cluster']\n",
    "    elif ls_lista == \"Lista03\":\n",
    "        column_names = ['NOStr','NOStrM','NOStrT','NOStrI','NOStrC','Cluster'] \n",
    "    elif ls_lista == \"Lista04\":\n",
    "        column_names = ['NOFRec','NOCRec','NOIFPar','NORRec','NORNRec','Cluster']\n",
    "    elif ls_lista == \"Lista05\":\n",
    "        column_names = ['sizeof','malloc','free','Cluster']                \n",
    "    # ---------------------  \n",
    "    return(column_names)"
   ]
  },
  {
   "cell_type": "code",
   "execution_count": null,
   "metadata": {},
   "outputs": [],
   "source": [
    "def writeHierarchicalCSV(df, column_names, output_file, dfx):\n",
    "    # write submissions on CSV\n",
    "    df = df.reindex(columns=column_names)\n",
    "    df.to_csv(output_file, mode = 'a', sep = \",\")\n",
    "    # ------------------------------------------  \n",
    "    # write not-aplication (NA) on CSV\n",
    "    dfx[\"Cluster\"] = \"NA\"\n",
    "    dfx.replace(0,\"-\").to_csv(output_file, mode = 'a', sep = \",\", header=False)"
   ]
  },
  {
   "cell_type": "code",
   "execution_count": null,
   "metadata": {},
   "outputs": [],
   "source": []
  }
 ],
 "metadata": {
  "kernelspec": {
   "display_name": "Python 3",
   "language": "python",
   "name": "python3"
  },
  "language_info": {
   "codemirror_mode": {
    "name": "ipython",
    "version": 3
   },
   "file_extension": ".py",
   "mimetype": "text/x-python",
   "name": "python",
   "nbconvert_exporter": "python",
   "pygments_lexer": "ipython3",
   "version": "3.6.5"
  }
 },
 "nbformat": 4,
 "nbformat_minor": 2
}
